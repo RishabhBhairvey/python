{
 "cells": [
  {
   "cell_type": "code",
   "execution_count": 3,
   "id": "fd01c868-586b-434c-bf01-9edf537575b4",
   "metadata": {},
   "outputs": [
    {
     "name": "stdout",
     "output_type": "stream",
     "text": [
      "66\n",
      "B\n"
     ]
    }
   ],
   "source": [
    "x='A'\n",
    "y=ord('A') #ord convert string to ascii no.\n",
    "y=y+1\n",
    "print(y)\n",
    "z=chr(y)\n",
    "print(z)"
   ]
  },
  {
   "cell_type": "code",
   "execution_count": 5,
   "id": "1e6e81d6-ab90-4431-9e66-d5895397f6b9",
   "metadata": {},
   "outputs": [
    {
     "name": "stdout",
     "output_type": "stream",
     "text": [
      "67\n",
      "C\n"
     ]
    }
   ],
   "source": [
    "#A to C increment;\n",
    "x='A'\n",
    "y=ord('A')\n",
    "y=y+2\n",
    "print(y)\n",
    "z=chr(y)\n",
    "print(z)"
   ]
  },
  {
   "cell_type": "code",
   "execution_count": null,
   "id": "92007233-1495-4bb0-be38-3bee6b435aaf",
   "metadata": {},
   "outputs": [],
   "source": []
  }
 ],
 "metadata": {
  "kernelspec": {
   "display_name": "Python [conda env:base] *",
   "language": "python",
   "name": "conda-base-py"
  },
  "language_info": {
   "codemirror_mode": {
    "name": "ipython",
    "version": 3
   },
   "file_extension": ".py",
   "mimetype": "text/x-python",
   "name": "python",
   "nbconvert_exporter": "python",
   "pygments_lexer": "ipython3",
   "version": "3.12.7"
  }
 },
 "nbformat": 4,
 "nbformat_minor": 5
}
