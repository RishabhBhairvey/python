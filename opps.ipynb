{
 "cells": [
  {
   "cell_type": "code",
   "execution_count": 22,
   "id": "c58cc687-8786-420d-8fd3-cb5d6f83bc40",
   "metadata": {},
   "outputs": [
    {
     "name": "stdout",
     "output_type": "stream",
     "text": [
      "1489515309248\n",
      "1489515309248\n"
     ]
    }
   ],
   "source": [
    "#opps :-it is use to add real world entity into coding world \n",
    "'''class -> it is a dumy model of an object which helps to creat a class of an physical object\n",
    "object-> it is a physical object of an class \n",
    "\n",
    "syntex of class\n",
    "keyword->class class_name:<- capital\n",
    "        'doc string'\n",
    "        vsriables ->property\n",
    "        methord -> behaviours\n",
    "        constructer-> init\n",
    "        self -> it is a refference which hold the  urrent obj's address'''\n",
    "\n",
    "class Fishu:\n",
    "    pass\n",
    "print(id(Fishu))\n",
    "obj=Fishu\n",
    "print(id(obj))"
   ]
  },
  {
   "cell_type": "code",
   "execution_count": 24,
   "id": "3bdf5d1b-9dd1-4535-acb7-0b406d06069d",
   "metadata": {},
   "outputs": [
    {
     "name": "stdout",
     "output_type": "stream",
     "text": [
      "['__class__', '__delattr__', '__dict__', '__dir__', '__doc__', '__eq__', '__format__', '__ge__', '__getattribute__', '__getstate__', '__gt__', '__hash__', '__init__', '__init_subclass__', '__le__', '__lt__', '__module__', '__ne__', '__new__', '__reduce__', '__reduce_ex__', '__repr__', '__setattr__', '__sizeof__', '__str__', '__subclasshook__', '__weakref__']\n",
      "hello\n"
     ]
    }
   ],
   "source": [
    "class First:\n",
    "    \"hello\"\n",
    "    pass\n",
    "print(dir(First))\n",
    "print(First.__doc__)\n",
    "    "
   ]
  },
  {
   "cell_type": "code",
   "execution_count": 48,
   "id": "ddf228b5-fc36-46b1-ac1a-a2c589a74522",
   "metadata": {},
   "outputs": [
    {
     "name": "stdout",
     "output_type": "stream",
     "text": [
      "constructor called\n",
      "1489534494448\n",
      "1489534494448\n"
     ]
    }
   ],
   "source": [
    "class First:\n",
    "    def __init__(self):\n",
    "        print(\"constructor called\")\n",
    "        print(id(self))\n",
    "obj=First\n",
    "obj=First()\n",
    "print(id(obj))"
   ]
  },
  {
   "cell_type": "code",
   "execution_count": null,
   "id": "df491027-97ec-4ed1-ab0d-c1be7919803d",
   "metadata": {},
   "outputs": [],
   "source": []
  }
 ],
 "metadata": {
  "kernelspec": {
   "display_name": "Python [conda env:base] *",
   "language": "python",
   "name": "conda-base-py"
  },
  "language_info": {
   "codemirror_mode": {
    "name": "ipython",
    "version": 3
   },
   "file_extension": ".py",
   "mimetype": "text/x-python",
   "name": "python",
   "nbconvert_exporter": "python",
   "pygments_lexer": "ipython3",
   "version": "3.12.7"
  }
 },
 "nbformat": 4,
 "nbformat_minor": 5
}
