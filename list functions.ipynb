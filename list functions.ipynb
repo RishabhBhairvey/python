{
 "cells": [
  {
   "cell_type": "code",
   "execution_count": 13,
   "id": "c396ef27-bdbf-4eb8-bc22-7180cf288c17",
   "metadata": {},
   "outputs": [
    {
     "name": "stdout",
     "output_type": "stream",
     "text": [
      "None\n",
      "['hu', 'ris', 6, 45, 3, 2, 1]\n"
     ]
    }
   ],
   "source": [
    "#reverse \n",
    "l=[1,2,3,45,6,'ris','hu']\n",
    "print(l.reverse())\n",
    "print(l)\n"
   ]
  },
  {
   "cell_type": "code",
   "execution_count": 48,
   "id": "47769471-947d-4925-89ad-0068995f4df0",
   "metadata": {},
   "outputs": [
    {
     "name": "stdout",
     "output_type": "stream",
     "text": [
      "['H', 'I', 'R', 'S', 'U']\n"
     ]
    }
   ],
   "source": [
    "#short() it si use to assanding order\n",
    "l=['R','I','S','H','U']\n",
    "l.sort()\n",
    "print(l)"
   ]
  },
  {
   "cell_type": "code",
   "execution_count": 31,
   "id": "c5a6fa19-3994-4030-b5a8-89d70e422631",
   "metadata": {},
   "outputs": [
    {
     "name": "stdout",
     "output_type": "stream",
     "text": [
      "1715951033984 1715950858896\n"
     ]
    }
   ],
   "source": [
    "# copy it is use to check to address\n",
    "l=[3,5,2,5,42]\n",
    "l1=l.copy\n",
    "print(id(l),id(l1))\n"
   ]
  },
  {
   "cell_type": "code",
   "execution_count": 35,
   "id": "92e153ff-1cc0-4ea1-a434-178b205a5477",
   "metadata": {},
   "outputs": [
    {
     "name": "stdout",
     "output_type": "stream",
     "text": [
      "[]\n",
      "1715951028480\n"
     ]
    }
   ],
   "source": [
    "l=[23,3,5,5,6]\n",
    "l.clear()\n",
    "print(l)\n",
    "print(id(l))\n"
   ]
  },
  {
   "cell_type": "code",
   "execution_count": 46,
   "id": "f2c284ea-9343-427f-b17e-0a01ed0854fb",
   "metadata": {},
   "outputs": [
    {
     "ename": "NameError",
     "evalue": "name 'l' is not defined",
     "output_type": "error",
     "traceback": [
      "\u001b[1;31m---------------------------------------------------------------------------\u001b[0m",
      "\u001b[1;31mNameError\u001b[0m                                 Traceback (most recent call last)",
      "Cell \u001b[1;32mIn[46], line 3\u001b[0m\n\u001b[0;32m      1\u001b[0m l\u001b[38;5;241m=\u001b[39m[\u001b[38;5;241m23\u001b[39m,\u001b[38;5;241m3\u001b[39m,\u001b[38;5;241m5\u001b[39m,\u001b[38;5;241m5\u001b[39m,\u001b[38;5;241m6\u001b[39m]\n\u001b[0;32m      2\u001b[0m \u001b[38;5;28;01mdel\u001b[39;00m l\n\u001b[1;32m----> 3\u001b[0m \u001b[38;5;28mprint\u001b[39m(l)\n",
      "\u001b[1;31mNameError\u001b[0m: name 'l' is not defined"
     ]
    }
   ],
   "source": [
    "l=[23,3,5,5,6]\n",
    "del l\n",
    "print(l)\n",
    "\n"
   ]
  },
  {
   "cell_type": "code",
   "execution_count": null,
   "id": "0752807f-ba51-4e1c-90e3-e5bcfe6e2158",
   "metadata": {},
   "outputs": [],
   "source": []
  },
  {
   "cell_type": "code",
   "execution_count": null,
   "id": "3e833c44-ea67-44e4-88c7-97945bea9376",
   "metadata": {},
   "outputs": [],
   "source": []
  }
 ],
 "metadata": {
  "kernelspec": {
   "display_name": "Python [conda env:base] *",
   "language": "python",
   "name": "conda-base-py"
  },
  "language_info": {
   "codemirror_mode": {
    "name": "ipython",
    "version": 3
   },
   "file_extension": ".py",
   "mimetype": "text/x-python",
   "name": "python",
   "nbconvert_exporter": "python",
   "pygments_lexer": "ipython3",
   "version": "3.12.7"
  }
 },
 "nbformat": 4,
 "nbformat_minor": 5
}
