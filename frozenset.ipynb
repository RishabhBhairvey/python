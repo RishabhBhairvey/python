{
 "cells": [
  {
   "cell_type": "code",
   "execution_count": 3,
   "id": "b54f9b38-588d-4910-b82d-12f10d74d9c1",
   "metadata": {},
   "outputs": [
    {
     "name": "stdout",
     "output_type": "stream",
     "text": [
      "False\n"
     ]
    }
   ],
   "source": [
    "#disjoint\n",
    "s1={ 1,2,3,4,5}\n",
    "s2={4,5,6,7,8}\n",
    "print(s1.isdisjoint(s2))"
   ]
  },
  {
   "cell_type": "code",
   "execution_count": 5,
   "id": "02c8a5e9-46a9-45cf-9927-68a1bdad5374",
   "metadata": {},
   "outputs": [
    {
     "name": "stdout",
     "output_type": "stream",
     "text": [
      "False\n"
     ]
    }
   ],
   "source": [
    "#superset\n",
    "s1={ 1,2,3,4,5}\n",
    "s2={4,5,6,7,8}\n",
    "print(s1.issuperset(s2))"
   ]
  },
  {
   "cell_type": "code",
   "execution_count": 7,
   "id": "f47f2f28-71f6-42c8-88fd-cc835230a86d",
   "metadata": {},
   "outputs": [
    {
     "name": "stdout",
     "output_type": "stream",
     "text": [
      "frozenset({'t', 'y', 'n', 'h', 'o', 'p'})\n",
      "<class 'frozenset'>\n",
      "2515457098688\n"
     ]
    }
   ],
   "source": [
    "#frozenset\n",
    "s='python'\n",
    "fs=frozenset(s)\n",
    "print(fs)\n",
    "print(type(fs))\n",
    "print(id(fs))"
   ]
  },
  {
   "cell_type": "code",
   "execution_count": 23,
   "id": "ff36c308-fa57-421f-a4e2-239f16c6274c",
   "metadata": {},
   "outputs": [
    {
     "name": "stdout",
     "output_type": "stream",
     "text": [
      "frozenset({1, 2, 3, 4, 5, 6, 7, 8, 9})\n",
      "<class 'frozenset'>\n",
      "2515453650400\n",
      "9\n",
      "1\n",
      "45\n",
      "9\n"
     ]
    }
   ],
   "source": [
    "#frozenset\n",
    "\n",
    "s1=[1,2,3,4,5,6,7,8,9]\n",
    "s2=[2,3,5]\n",
    "fs=frozenset(s1)\n",
    "print(fs)\n",
    "print(type(fs))\n",
    "print(id(fs))\n",
    "print(max(fs))\n",
    "print(min(fs))\n",
    "print(sum(fs))\n",
    "print(len(fs))\n",
    "\n"
   ]
  },
  {
   "cell_type": "code",
   "execution_count": null,
   "id": "fafb129a-4b4c-4c0e-9b5d-3cafe9af4791",
   "metadata": {},
   "outputs": [],
   "source": []
  },
  {
   "cell_type": "code",
   "execution_count": null,
   "id": "694eb3c3-d1d7-4e34-b91d-4b11fe06bb06",
   "metadata": {},
   "outputs": [],
   "source": []
  }
 ],
 "metadata": {
  "kernelspec": {
   "display_name": "Python [conda env:base] *",
   "language": "python",
   "name": "conda-base-py"
  },
  "language_info": {
   "codemirror_mode": {
    "name": "ipython",
    "version": 3
   },
   "file_extension": ".py",
   "mimetype": "text/x-python",
   "name": "python",
   "nbconvert_exporter": "python",
   "pygments_lexer": "ipython3",
   "version": "3.12.7"
  }
 },
 "nbformat": 4,
 "nbformat_minor": 5
}
