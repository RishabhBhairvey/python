{
 "cells": [
  {
   "cell_type": "code",
   "execution_count": 1,
   "id": "112a55a0-8f41-4cc6-87e1-504b9ccf2a99",
   "metadata": {},
   "outputs": [
    {
     "name": "stdout",
     "output_type": "stream",
     "text": [
      "15\n",
      "25\n",
      "35\n",
      "45\n"
     ]
    }
   ],
   "source": [
    "'''for loop \n",
    "syntex => for   i    in     collection \n",
    " i (variable) in(operator)  collection( list,string,tuple,dictnury,set frozenset,range)\n",
    "'''\n",
    "#example  \n",
    "l=[10,20,30,40]\n",
    "for i in l:\n",
    "    print(i+5)"
   ]
  },
  {
   "cell_type": "code",
   "execution_count": 5,
   "id": "d56be6eb-2b92-44ce-93e8-ee8e8149772c",
   "metadata": {},
   "outputs": [
    {
     "name": "stdout",
     "output_type": "stream",
     "text": [
      "[15, 25, 35, 45]\n"
     ]
    }
   ],
   "source": [
    "l=[10,20,30,40]\n",
    "l1=[]\n",
    "for i in l:\n",
    "    l1.append(i+5)\n",
    "print(l1)"
   ]
  },
  {
   "cell_type": "code",
   "execution_count": 7,
   "id": "bc1f1791-ced3-439d-a9be-56cc737e21e2",
   "metadata": {},
   "outputs": [
    {
     "name": "stdin",
     "output_type": "stream",
     "text": [
      "enter any string rishu\n"
     ]
    },
    {
     "name": "stdout",
     "output_type": "stream",
     "text": [
      "r\n",
      "i\n",
      "s\n",
      "h\n",
      "u\n"
     ]
    }
   ],
   "source": [
    "# for loop for string\n",
    "s=input('enter any string')\n",
    "for i in s:\n",
    "    print(i)\n",
    "    "
   ]
  },
  {
   "cell_type": "code",
   "execution_count": 9,
   "id": "242cbdf5-1903-4481-ae9b-c08025ba6e7a",
   "metadata": {},
   "outputs": [
    {
     "ename": "NameError",
     "evalue": "name 'evel' is not defined",
     "output_type": "error",
     "traceback": [
      "\u001b[1;31m---------------------------------------------------------------------------\u001b[0m",
      "\u001b[1;31mNameError\u001b[0m                                 Traceback (most recent call last)",
      "Cell \u001b[1;32mIn[9], line 2\u001b[0m\n\u001b[0;32m      1\u001b[0m \u001b[38;5;66;03m#for tuple\u001b[39;00m\n\u001b[1;32m----> 2\u001b[0m t\u001b[38;5;241m=\u001b[39mevel(\u001b[38;5;28minput\u001b[39m(\u001b[38;5;124m'\u001b[39m\u001b[38;5;124menter any tuple\u001b[39m\u001b[38;5;124m'\u001b[39m))\n\u001b[0;32m      3\u001b[0m \u001b[38;5;28;01mfor\u001b[39;00m i \u001b[38;5;129;01min\u001b[39;00m t:\n\u001b[0;32m      4\u001b[0m     \u001b[38;5;28mprint\u001b[39m(i)\n",
      "\u001b[1;31mNameError\u001b[0m: name 'evel' is not defined"
     ]
    }
   ],
   "source": [
    "#for tuple\n",
    "t=evel(input('enter any tuple'))\n",
    "for i in t:\n",
    "    print(i)"
   ]
  },
  {
   "cell_type": "code",
   "execution_count": 14,
   "id": "f9074bf1-c285-4de0-94c5-ea3842e4596a",
   "metadata": {},
   "outputs": [
    {
     "name": "stdout",
     "output_type": "stream",
     "text": [
      "name = rishu\n",
      "age = 26\n",
      "quali = MCA\n"
     ]
    }
   ],
   "source": [
    "#for dict\n",
    "d={'name':'rishu','age':'26','quali':'MCA'}\n",
    "for k,v in d.items():    #k = key, v=value\n",
    "    print(k,'=',v)"
   ]
  },
  {
   "cell_type": "code",
   "execution_count": 20,
   "id": "6059c8d5-85b0-4e84-9d27-c6128f609928",
   "metadata": {},
   "outputs": [
    {
     "name": "stdout",
     "output_type": "stream",
     "text": [
      "name\n",
      "age\n",
      "quali\n"
     ]
    }
   ],
   "source": [
    "#for dict\n",
    "d={'name':'rishu','age':'26','quali':'MCA'}\n",
    "for k in d.keys():    #k = key, v=value\n",
    "    print(k)"
   ]
  },
  {
   "cell_type": "code",
   "execution_count": 22,
   "id": "851efe3c-4a76-45b9-b3a9-6fd055df29e1",
   "metadata": {},
   "outputs": [
    {
     "name": "stdout",
     "output_type": "stream",
     "text": [
      "rishu\n",
      "26\n",
      "MCA\n"
     ]
    }
   ],
   "source": [
    "#for dict\n",
    "d={'name':'rishu','age':'26','quali':'MCA'}\n",
    "for v in d.values():    #k = key, v=value\n",
    "    print(v)"
   ]
  },
  {
   "cell_type": "code",
   "execution_count": 26,
   "id": "41426a37-9e01-434e-822e-3e6ec7c0b598",
   "metadata": {},
   "outputs": [
    {
     "name": "stdin",
     "output_type": "stream",
     "text": [
      "Enter any no. 10\n"
     ]
    },
    {
     "name": "stdout",
     "output_type": "stream",
     "text": [
      "1\n",
      "2\n",
      "3\n",
      "4\n",
      "5\n",
      "6\n",
      "7\n",
      "8\n",
      "9\n",
      "10\n"
     ]
    }
   ],
   "source": [
    "#for in range\n",
    "n=int(input('Enter limit of natural no.'))\n",
    "for i in range(1,n+1):\n",
    "    print(i)\n"
   ]
  },
  {
   "cell_type": "code",
   "execution_count": 28,
   "id": "625ad723-fbf9-464f-ab15-623c95b37d2a",
   "metadata": {},
   "outputs": [
    {
     "name": "stdin",
     "output_type": "stream",
     "text": [
      "Enter limit of even no. 10\n"
     ]
    },
    {
     "name": "stdout",
     "output_type": "stream",
     "text": [
      "2\n",
      "4\n",
      "6\n",
      "8\n",
      "10\n"
     ]
    }
   ],
   "source": [
    "#range even no.\n",
    "n=int(input('Enter limit of even no.'))\n",
    "for i in range(2,n+1,2):\n",
    "    print(i)\n"
   ]
  },
  {
   "cell_type": "code",
   "execution_count": 32,
   "id": "11de946d-d222-4092-a2ab-49e4ccedd823",
   "metadata": {},
   "outputs": [
    {
     "name": "stdin",
     "output_type": "stream",
     "text": [
      "Enter limit of odd no. 10\n"
     ]
    },
    {
     "name": "stdout",
     "output_type": "stream",
     "text": [
      "1\n",
      "3\n",
      "5\n",
      "7\n",
      "9\n"
     ]
    }
   ],
   "source": [
    "#even no.\n",
    "n=int(input('Enter limit of odd no.'))\n",
    "for i in range(1,n+1,2):\n",
    "    print(i)\n"
   ]
  },
  {
   "cell_type": "code",
   "execution_count": null,
   "id": "5f35062d-3c49-42cf-b967-2b33dd37bc58",
   "metadata": {},
   "outputs": [],
   "source": [
    "#sum of even no.\n",
    "s=sum\n",
    "n=int(input('Enter limit of even no.'))\n",
    "for i in range(2,n+1,2):\n",
    "    print(i)\n"
   ]
  }
 ],
 "metadata": {
  "kernelspec": {
   "display_name": "Python [conda env:base] *",
   "language": "python",
   "name": "conda-base-py"
  },
  "language_info": {
   "codemirror_mode": {
    "name": "ipython",
    "version": 3
   },
   "file_extension": ".py",
   "mimetype": "text/x-python",
   "name": "python",
   "nbconvert_exporter": "python",
   "pygments_lexer": "ipython3",
   "version": "3.12.7"
  }
 },
 "nbformat": 4,
 "nbformat_minor": 5
}
