{
 "cells": [
  {
   "cell_type": "code",
   "execution_count": 1,
   "id": "daf8f847-5fcd-4c4c-b83a-856592b76977",
   "metadata": {},
   "outputs": [
    {
     "name": "stdout",
     "output_type": "stream",
     "text": [
      "2\n"
     ]
    }
   ],
   "source": [
    "#collection of elements (tuple)\n",
    "t=(12,34,45,'py')\n",
    "print(t.index(45))"
   ]
  },
  {
   "cell_type": "code",
   "execution_count": 31,
   "id": "20b5fcba-3ad5-4826-8430-5abe3da0ebd8",
   "metadata": {},
   "outputs": [
    {
     "ename": "AttributeError",
     "evalue": "'tuple' object has no attribute 'coont'",
     "output_type": "error",
     "traceback": [
      "\u001b[1;31m---------------------------------------------------------------------------\u001b[0m",
      "\u001b[1;31mAttributeError\u001b[0m                            Traceback (most recent call last)",
      "Cell \u001b[1;32mIn[31], line 2\u001b[0m\n\u001b[0;32m      1\u001b[0m t\u001b[38;5;241m=\u001b[39m(\u001b[38;5;241m12\u001b[39m,\u001b[38;5;241m34\u001b[39m,\u001b[38;5;241m45\u001b[39m,\u001b[38;5;241m12\u001b[39m,\u001b[38;5;241m324\u001b[39m,\u001b[38;5;241m43\u001b[39m,\u001b[38;5;241m45\u001b[39m,\u001b[38;5;241m23\u001b[39m)\n\u001b[1;32m----> 2\u001b[0m \u001b[38;5;28mprint\u001b[39m(t\u001b[38;5;241m.\u001b[39mcoont(\u001b[38;5;241m12\u001b[39m))\n",
      "\u001b[1;31mAttributeError\u001b[0m: 'tuple' object has no attribute 'coont'"
     ]
    }
   ],
   "source": [
    "t=(12,34,45,12,324,43,45,23)\n",
    "print(t.coont(12))"
   ]
  },
  {
   "cell_type": "code",
   "execution_count": 33,
   "id": "faf681db-795f-4e2c-aac7-8e64da73bacc",
   "metadata": {},
   "outputs": [
    {
     "name": "stdout",
     "output_type": "stream",
     "text": [
      "88\n",
      "64\n"
     ]
    }
   ],
   "source": [
    "import sys\n",
    "l=[10,20,30]\n",
    "t=(10,20,30)\n",
    "print(sys.getsizeof(l))\n",
    "print(sys.getsizeof(t))\n",
    "#tuple is fast (l) then list"
   ]
  },
  {
   "cell_type": "code",
   "execution_count": 50,
   "id": "5b9a6df0-07cc-4b8c-ad1e-fa7da0b94331",
   "metadata": {},
   "outputs": [
    {
     "ename": "SyntaxError",
     "evalue": "invalid syntax (2164335638.py, line 2)",
     "output_type": "error",
     "traceback": [
      "\u001b[1;36m  Cell \u001b[1;32mIn[50], line 2\u001b[1;36m\u001b[0m\n\u001b[1;33m    d={1:'name':'rishu','name':37,'quality':'MCA'}\u001b[0m\n\u001b[1;37m               ^\u001b[0m\n\u001b[1;31mSyntaxError\u001b[0m\u001b[1;31m:\u001b[0m invalid syntax\n"
     ]
    }
   ],
   "source": [
    "#dictionary\n",
    "d={1:'name':'rishu','name':37,'quality':'MCA'}\n",
    "print(d)\n"
   ]
  },
  {
   "cell_type": "code",
   "execution_count": 45,
   "id": "adb10ff5-da8b-45b9-ae0c-abe320c91112",
   "metadata": {},
   "outputs": [
    {
     "ename": "SyntaxError",
     "evalue": "':' expected after dictionary key (1371061761.py, line 1)",
     "output_type": "error",
     "traceback": [
      "\u001b[1;36m  Cell \u001b[1;32mIn[45], line 1\u001b[1;36m\u001b[0m\n\u001b[1;33m    d={'name':'rishu','age':'26','MCA'}\u001b[0m\n\u001b[1;37m                                     ^\u001b[0m\n\u001b[1;31mSyntaxError\u001b[0m\u001b[1;31m:\u001b[0m ':' expected after dictionary key\n"
     ]
    }
   ],
   "source": [
    "d={'name':'rishu','age':'26','MCA'}\n",
    "print(d)"
   ]
  },
  {
   "cell_type": "code",
   "execution_count": null,
   "id": "e77a5cce-958c-4e88-85b7-beebebf9585b",
   "metadata": {},
   "outputs": [],
   "source": []
  },
  {
   "cell_type": "code",
   "execution_count": null,
   "id": "9633ae4f-58b9-48f9-ab23-d45381dd3919",
   "metadata": {},
   "outputs": [],
   "source": []
  }
 ],
 "metadata": {
  "kernelspec": {
   "display_name": "Python [conda env:base] *",
   "language": "python",
   "name": "conda-base-py"
  },
  "language_info": {
   "codemirror_mode": {
    "name": "ipython",
    "version": 3
   },
   "file_extension": ".py",
   "mimetype": "text/x-python",
   "name": "python",
   "nbconvert_exporter": "python",
   "pygments_lexer": "ipython3",
   "version": "3.12.7"
  }
 },
 "nbformat": 4,
 "nbformat_minor": 5
}
