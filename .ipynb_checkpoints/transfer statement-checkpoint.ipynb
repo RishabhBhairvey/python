{
 "cells": [
  {
   "cell_type": "code",
   "execution_count": 5,
   "id": "cac7d1d4-e327-4ce1-9ef7-3cf926dee967",
   "metadata": {},
   "outputs": [
    {
     "name": "stdin",
     "output_type": "stream",
     "text": [
      "enter a no. 10\n"
     ]
    },
    {
     "name": "stdout",
     "output_type": "stream",
     "text": [
      "1\n",
      "2\n",
      "3\n",
      "4\n",
      "6\n",
      "7\n",
      "8\n",
      "9\n",
      "10\n"
     ]
    }
   ],
   "source": [
    "#transfer statement \n",
    "'''3 types \n",
    "       -> continue  (skip current iteration) it is use to target an eliment to remove from the list\n",
    "       -> break  (terminate loop) to terminate iteration from the tareget position\n",
    "       -> pass(skip current block) to skip the current block of code\n",
    "       '''\n",
    "#for example (cConnectionRefusedError)\n",
    "n=int(input(\"enter a no.\"))\n",
    "i=1\n",
    "while i<=n:\n",
    "        if i==5:\n",
    "            i=i+1\n",
    "            continue\n",
    "        else:\n",
    "            print(i)\n",
    "        i=i+1\n"
   ]
  },
  {
   "cell_type": "markdown",
   "id": "2c4b1943-5908-4c63-a07b-6aaa2fefe958",
   "metadata": {},
   "source": [
    "# "
   ]
  },
  {
   "cell_type": "code",
   "execution_count": 11,
   "id": "b16e008f-ce25-440a-8404-545239634e0d",
   "metadata": {},
   "outputs": [
    {
     "name": "stdout",
     "output_type": "stream",
     "text": [
      "1 '+' \n",
      "2.'-' \n",
      "3. '/' \n",
      "4. off\n"
     ]
    },
    {
     "name": "stdin",
     "output_type": "stream",
     "text": [
      "enter any option 2\n",
      "enter first value 16\n",
      "enter second value 13\n"
     ]
    },
    {
     "name": "stdout",
     "output_type": "stream",
     "text": [
      "3\n",
      "1 '+' \n",
      "2.'-' \n",
      "3. '/' \n",
      "4. off\n"
     ]
    },
    {
     "name": "stdin",
     "output_type": "stream",
     "text": [
      "enter any option 4\n"
     ]
    }
   ],
   "source": [
    "# calculater \n",
    "#Q-> keys1(+),2(-),3(divide /), 4(power off calculator)\n",
    "\n",
    "while True:\n",
    "    print(\"1 '+' \\n2.'-' \\n3. '/' \\n4. off\")\n",
    "    n=int(input(\"enter any option\"))\n",
    "    x=(1,2,3,4)\n",
    "    if n in x:\n",
    "        if n==1:\n",
    "            p=int(input('enter first value'))\n",
    "            q=int(input('enter second value'))\n",
    "            print(p+q)\n",
    "        elif n==2:\n",
    "            p=int(input('enter first value'))\n",
    "            q=int(input('enter second value'))\n",
    "            print(p-q)\n",
    "        elif n==3:\n",
    "            p=int(input('enter first value'))\n",
    "            q=int(input('enter second value'))\n",
    "            print(p/q)\n",
    "        elif n==4:\n",
    "            break\n",
    "    else: \n",
    "        print('plearse enter a valid input')"
   ]
  },
  {
   "cell_type": "code",
   "execution_count": null,
   "id": "ce55bb36-6f38-45d1-a430-5e7544292b4b",
   "metadata": {},
   "outputs": [],
   "source": []
  }
 ],
 "metadata": {
  "kernelspec": {
   "display_name": "Python [conda env:base] *",
   "language": "python",
   "name": "conda-base-py"
  },
  "language_info": {
   "codemirror_mode": {
    "name": "ipython",
    "version": 3
   },
   "file_extension": ".py",
   "mimetype": "text/x-python",
   "name": "python",
   "nbconvert_exporter": "python",
   "pygments_lexer": "ipython3",
   "version": "3.12.7"
  }
 },
 "nbformat": 4,
 "nbformat_minor": 5
}
