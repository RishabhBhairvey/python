{
 "cells": [
  {
   "cell_type": "code",
   "execution_count": null,
   "id": "fe9edbe4-5936-4827-b637-6a972d179547",
   "metadata": {},
   "outputs": [],
   "source": [
    "#lamda expression\n",
    "l1=[1,2,3,4,5,6]\n",
    "l2=[7,8,9,10,11,12]\n",
    "l3=[2,4,6,8,10,12]\n",
    "l=[]\n",
    "print(list(map(lambda p,q,r:p+q+r,l1,l2,l3)))"
   ]
  },
  {
   "cell_type": "code",
   "execution_count": null,
   "id": "4119f0d8-cc36-429e-aafb-0e7d7af5699d",
   "metadata": {},
   "outputs": [],
   "source": [
    "l1=[1,2,3,4,5,6]\n",
    "x=filter(lambda n: n%2!=0,l1)\n",
    "print(list(x))"
   ]
  },
  {
   "cell_type": "code",
   "execution_count": 9,
   "id": "318f5387-bb4a-4c9d-b16e-89a1e1476ab9",
   "metadata": {},
   "outputs": [
    {
     "name": "stdout",
     "output_type": "stream",
     "text": [
      "[2, 4, 6, 8, 10]\n"
     ]
    }
   ],
   "source": [
    "l1=[1,2,3,4,5,6,7,8,9,10]\n",
    "x=filter(lambda n: n%2==0,l1)\n",
    "print(list(x))"
   ]
  },
  {
   "cell_type": "code",
   "execution_count": 13,
   "id": "b1079710-dbb7-472f-84ca-438714fe256f",
   "metadata": {},
   "outputs": [
    {
     "name": "stdout",
     "output_type": "stream",
     "text": [
      "21\n"
     ]
    }
   ],
   "source": [
    "l=[1,2,3,4,5,6]\n",
    "from functools import reduce\n",
    "p=reduce(lambda x,y:x+y,l)\n",
    "print(p)"
   ]
  },
  {
   "cell_type": "code",
   "execution_count": 19,
   "id": "57019151-d65e-4213-8e8b-8aaf808203c2",
   "metadata": {},
   "outputs": [
    {
     "name": "stdout",
     "output_type": "stream",
     "text": [
      "20\n"
     ]
    }
   ],
   "source": [
    "#list comprihansion\n",
    "#lambda variable: if result if condition else else result\n",
    "p=lambda x,y:x if x>y else y\n",
    "print(p(10,20))"
   ]
  },
  {
   "cell_type": "code",
   "execution_count": 21,
   "id": "6f9873f0-ad1f-41af-a896-3ebafdc9f656",
   "metadata": {},
   "outputs": [
    {
     "name": "stdout",
     "output_type": "stream",
     "text": [
      "1\n"
     ]
    }
   ],
   "source": [
    "l=[1,2,3,4,5,6]\n",
    "p=reduce(lambda x,y: x if x<y else y,l)\n",
    "print(p)"
   ]
  },
  {
   "cell_type": "code",
   "execution_count": 25,
   "id": "937e20f4-c106-4bf9-850b-6c24580ff988",
   "metadata": {},
   "outputs": [
    {
     "name": "stdout",
     "output_type": "stream",
     "text": [
      "6\n"
     ]
    }
   ],
   "source": [
    "l=[1,2,3,4,5,6]\n",
    "p=reduce(lambda x,y: x if x>y else y,l)\n",
    "print(p)"
   ]
  },
  {
   "cell_type": "code",
   "execution_count": null,
   "id": "5f69f324-e663-462a-9c5f-744c78863849",
   "metadata": {},
   "outputs": [],
   "source": []
  }
 ],
 "metadata": {
  "kernelspec": {
   "display_name": "Python [conda env:base] *",
   "language": "python",
   "name": "conda-base-py"
  },
  "language_info": {
   "codemirror_mode": {
    "name": "ipython",
    "version": 3
   },
   "file_extension": ".py",
   "mimetype": "text/x-python",
   "name": "python",
   "nbconvert_exporter": "python",
   "pygments_lexer": "ipython3",
   "version": "3.12.7"
  }
 },
 "nbformat": 4,
 "nbformat_minor": 5
}
