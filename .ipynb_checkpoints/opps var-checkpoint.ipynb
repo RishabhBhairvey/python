{
 "cells": [
  {
   "cell_type": "code",
   "execution_count": null,
   "id": "21462d84-f990-4e11-8c9a-67ebfdf5631b",
   "metadata": {},
   "outputs": [],
   "source": [
    "#opps sonstructor (to creat a student data)\n",
    "class Student:\n",
    "    def __init__(self,name,city,phone):\n",
    "        self.n=name \n",
    "        self.c=city\n",
    "        self.p=phone\n",
    "obj1=Student('rishu','vidisha',9584)\n",
    "obj2=Student('rinku','betul',8983)\n",
    "print(obj1.n,obj1.c,obj1.p)\n",
    "print(obj2.n,obj2.c,obj2.p)        \n",
    "        "
   ]
  },
  {
   "cell_type": "code",
   "execution_count": 7,
   "id": "69e9ef68-c0e9-49bd-b8da-d098c656613f",
   "metadata": {},
   "outputs": [
    {
     "name": "stdout",
     "output_type": "stream",
     "text": [
      "rishu vds 9584 VSSS\n"
     ]
    }
   ],
   "source": [
    "#variable (in py it is a container which hold the address of data)\n",
    "'''3 types\n",
    "1 instance var-> it is define with the self is k/n as IV(object dependend)\n",
    "2 class/static var-> (object independent)\n",
    "2 local var(scope or block dependent)'''\n",
    "#instance var\n",
    "class Student:\n",
    "    def __init__(self,name,city):\n",
    "        self.n=name                    #inside constructor(declaration)\n",
    "        self.c=city\n",
    "    def add(self,phone):\n",
    "        self.p=phone                  #inside instance method(declaration)\n",
    "obj=Student('rishu','vds')\n",
    "obj.school='VSSS'                     #outside of the class (declaration)\n",
    "obj.add(9584)\n",
    "print(obj.n,obj.c,obj.p,obj.school) #access out side of the class"
   ]
  },
  {
   "cell_type": "code",
   "execution_count": 11,
   "id": "450bc7e0-877f-429f-be9b-862288ea128b",
   "metadata": {},
   "outputs": [
    {
     "name": "stdout",
     "output_type": "stream",
     "text": [
      "rishu vds\n"
     ]
    },
    {
     "ename": "AttributeError",
     "evalue": "'Student' object has no attribute 'school'",
     "output_type": "error",
     "traceback": [
      "\u001b[1;31m---------------------------------------------------------------------------\u001b[0m",
      "\u001b[1;31mAttributeError\u001b[0m                            Traceback (most recent call last)",
      "Cell \u001b[1;32mIn[11], line 11\u001b[0m\n\u001b[0;32m      8\u001b[0m         \u001b[38;5;28mprint\u001b[39m(\u001b[38;5;28mself\u001b[39m\u001b[38;5;241m.\u001b[39mn,\u001b[38;5;28mself\u001b[39m\u001b[38;5;241m.\u001b[39mc,\u001b[38;5;28mself\u001b[39m\u001b[38;5;241m.\u001b[39mp,\u001b[38;5;28mself\u001b[39m\u001b[38;5;241m.\u001b[39mschool)\n\u001b[0;32m     10\u001b[0m obj\u001b[38;5;241m=\u001b[39mStudent(\u001b[38;5;124m'\u001b[39m\u001b[38;5;124mrishu\u001b[39m\u001b[38;5;124m'\u001b[39m,\u001b[38;5;124m'\u001b[39m\u001b[38;5;124mvds\u001b[39m\u001b[38;5;124m'\u001b[39m)\n\u001b[1;32m---> 11\u001b[0m obj\u001b[38;5;241m.\u001b[39madd(\u001b[38;5;241m9584\u001b[39m)\n\u001b[0;32m     12\u001b[0m obj\u001b[38;5;241m.\u001b[39mschool\u001b[38;5;241m=\u001b[39m\u001b[38;5;124m'\u001b[39m\u001b[38;5;124mVSSS\u001b[39m\u001b[38;5;124m'\u001b[39m                     \u001b[38;5;66;03m#outside of the class (declaration)\u001b[39;00m\n\u001b[0;32m     13\u001b[0m \u001b[38;5;28mprint\u001b[39m(obj\u001b[38;5;241m.\u001b[39mn,obj\u001b[38;5;241m.\u001b[39mc,obj\u001b[38;5;241m.\u001b[39mp,obj\u001b[38;5;241m.\u001b[39mschool)\n",
      "Cell \u001b[1;32mIn[11], line 8\u001b[0m, in \u001b[0;36mStudent.add\u001b[1;34m(self, phone)\u001b[0m\n\u001b[0;32m      6\u001b[0m \u001b[38;5;28;01mdef\u001b[39;00m \u001b[38;5;21madd\u001b[39m(\u001b[38;5;28mself\u001b[39m,phone):\n\u001b[0;32m      7\u001b[0m     \u001b[38;5;28mself\u001b[39m\u001b[38;5;241m.\u001b[39mp\u001b[38;5;241m=\u001b[39mphone                  \u001b[38;5;66;03m#inside instance method(declaration)\u001b[39;00m\n\u001b[1;32m----> 8\u001b[0m     \u001b[38;5;28mprint\u001b[39m(\u001b[38;5;28mself\u001b[39m\u001b[38;5;241m.\u001b[39mn,\u001b[38;5;28mself\u001b[39m\u001b[38;5;241m.\u001b[39mc,\u001b[38;5;28mself\u001b[39m\u001b[38;5;241m.\u001b[39mp,\u001b[38;5;28mself\u001b[39m\u001b[38;5;241m.\u001b[39mschool)\n",
      "\u001b[1;31mAttributeError\u001b[0m: 'Student' object has no attribute 'school'"
     ]
    }
   ],
   "source": [
    "\n",
    "class Student:\n",
    "    def __init__(self,name,city):\n",
    "        self.n=name                    #inside constructor(declaration)\n",
    "        self.c=city\n",
    "        print(self.n,self.c)\n",
    "    def add(self,phone):\n",
    "        self.p=phone                  #inside instance method(declaration)\n",
    "        print(self.n,self.c,self.p,self.school)\n",
    "\n",
    "obj=Student('rishu','vds')\n",
    "obj.add(9584)\n",
    "obj.school='VSSS'                     #outside of the class (declaration)\n",
    "print(obj.n,obj.c,obj.p,obj.school)"
   ]
  },
  {
   "cell_type": "code",
   "execution_count": null,
   "id": "eb5188fa-291f-4c20-84e6-1be3a32d3f35",
   "metadata": {},
   "outputs": [],
   "source": []
  }
 ],
 "metadata": {
  "kernelspec": {
   "display_name": "Python [conda env:base] *",
   "language": "python",
   "name": "conda-base-py"
  },
  "language_info": {
   "codemirror_mode": {
    "name": "ipython",
    "version": 3
   },
   "file_extension": ".py",
   "mimetype": "text/x-python",
   "name": "python",
   "nbconvert_exporter": "python",
   "pygments_lexer": "ipython3",
   "version": "3.12.7"
  }
 },
 "nbformat": 4,
 "nbformat_minor": 5
}
