{
 "cells": [
  {
   "cell_type": "code",
   "execution_count": 1,
   "id": "7e3fb4af-9a0d-4cfb-9dc9-394940c6c234",
   "metadata": {},
   "outputs": [
    {
     "name": "stdin",
     "output_type": "stream",
     "text": [
      "enter a no. 5\n"
     ]
    },
    {
     "name": "stdout",
     "output_type": "stream",
     "text": [
      "*    \n",
      "**   \n",
      "***  \n",
      "**** \n",
      "*****\n"
     ]
    }
   ],
   "source": [
    "n=int(input(\"enter a no.\"))\n",
    "for i in range(1,n+1):\n",
    "    print('*'*i+' '*(n-i))"
   ]
  },
  {
   "cell_type": "code",
   "execution_count": 3,
   "id": "9ceb6b13-fa6d-4c45-b52c-68c5226d1165",
   "metadata": {},
   "outputs": [
    {
     "name": "stdin",
     "output_type": "stream",
     "text": [
      "enter a no. 5\n"
     ]
    },
    {
     "name": "stdout",
     "output_type": "stream",
     "text": [
      "    *\n",
      "   **\n",
      "  ***\n",
      " ****\n",
      "*****\n"
     ]
    }
   ],
   "source": [
    "n=int(input(\"enter a no.\"))\n",
    "for i in range(1,n+1):\n",
    "    print(' '*(n-i)+'*'*i)"
   ]
  },
  {
   "cell_type": "code",
   "execution_count": 27,
   "id": "279dc06f-6278-4176-a7f8-487ee57c44dd",
   "metadata": {},
   "outputs": [
    {
     "name": "stdin",
     "output_type": "stream",
     "text": [
      "enter no of lines 5\n"
     ]
    },
    {
     "name": "stdout",
     "output_type": "stream",
     "text": [
      "*****\n",
      "**** \n",
      "***  \n",
      "**   \n",
      "*    \n",
      "**   \n",
      "***  \n",
      "**** \n",
      "*****\n"
     ]
    }
   ],
   "source": [
    "n=int(input('enter no of lines'))\n",
    "for i in range(n):\n",
    "    print('*'*(n-i)+' '*i)\n",
    "for i in range(2,n+1):\n",
    "    print('*'*i+' '*(n-i))"
   ]
  },
  {
   "cell_type": "code",
   "execution_count": 29,
   "id": "a666d548-e5af-43eb-b4df-00227e577242",
   "metadata": {},
   "outputs": [
    {
     "name": "stdin",
     "output_type": "stream",
     "text": [
      "enter no of lines 5\n"
     ]
    },
    {
     "name": "stdout",
     "output_type": "stream",
     "text": [
      "*****\n",
      " ****\n",
      "  ***\n",
      "   **\n",
      "    *\n",
      "    *\n",
      "   **\n",
      "  ***\n",
      " ****\n",
      "*****\n"
     ]
    }
   ],
   "source": [
    "n=int(input('enter no of lines'))\n",
    "for i in range(n):\n",
    "    print(' '*i+'*'*(n-i))\n",
    "for i in range(1,n+1):\n",
    "    print(' '*(n-i)+'*'*i)"
   ]
  },
  {
   "cell_type": "code",
   "execution_count": 31,
   "id": "8f404ddf-b4b6-48ce-89fe-50ff983c75f4",
   "metadata": {},
   "outputs": [
    {
     "name": "stdin",
     "output_type": "stream",
     "text": [
      "enter no of lines 5\n"
     ]
    },
    {
     "name": "stdout",
     "output_type": "stream",
     "text": [
      "* * * * * \n",
      " * * * * \n",
      "  * * * \n",
      "   * * \n",
      "    * \n",
      "    * \n",
      "   * * \n",
      "  * * * \n",
      " * * * * \n",
      "* * * * * \n"
     ]
    }
   ],
   "source": [
    "n=int(input('enter no of lines'))\n",
    "for i in range(n):\n",
    "    print(' '*i+'* '*(n-i))\n",
    "for i in range(1,n+1):\n",
    "    print(' '*(n-i)+'* '*i)"
   ]
  },
  {
   "cell_type": "code",
   "execution_count": 57,
   "id": "6740bd1f-6d6b-44bd-be30-8796d9de748f",
   "metadata": {},
   "outputs": [
    {
     "name": "stdin",
     "output_type": "stream",
     "text": [
      "enter a no. 5\n"
     ]
    },
    {
     "name": "stdout",
     "output_type": "stream",
     "text": [
      "*     \n",
      "**     \n",
      "***     \n",
      "****     \n",
      "*****     \n",
      " ****\n",
      "  ***\n",
      "   **\n",
      "    *\n"
     ]
    }
   ],
   "source": [
    "n=int(input('enter a no.'))\n",
    "for i in range(1,n+1):\n",
    "    print('*'*i+' '*(n))\n",
    "for i in range(1,n):\n",
    "    print(' '*i+'*'*(n-i))"
   ]
  },
  {
   "cell_type": "code",
   "execution_count": 61,
   "id": "2171ddb7-0f0d-4edc-aee0-176269b3ec3c",
   "metadata": {},
   "outputs": [
    {
     "name": "stdin",
     "output_type": "stream",
     "text": [
      "enter a no. 5\n"
     ]
    },
    {
     "name": "stdout",
     "output_type": "stream",
     "text": [
      "    *\n",
      "   **\n",
      "  ***\n",
      " ****\n",
      "*****\n",
      "**** \n",
      "***  \n",
      "**   \n",
      "*    \n"
     ]
    }
   ],
   "source": [
    "n=int(input('enter a no.'))\n",
    "for i in range(1,n+1):\n",
    "    print(' '*(n-i)+'*'*i)\n",
    "for i in range(1,n):\n",
    "    print('*'*(n-i)+' '*i)"
   ]
  },
  {
   "cell_type": "code",
   "execution_count": null,
   "id": "7e21b246-4c96-4bcb-b74f-0ba941c7079e",
   "metadata": {},
   "outputs": [],
   "source": []
  }
 ],
 "metadata": {
  "kernelspec": {
   "display_name": "Python [conda env:base] *",
   "language": "python",
   "name": "conda-base-py"
  },
  "language_info": {
   "codemirror_mode": {
    "name": "ipython",
    "version": 3
   },
   "file_extension": ".py",
   "mimetype": "text/x-python",
   "name": "python",
   "nbconvert_exporter": "python",
   "pygments_lexer": "ipython3",
   "version": "3.12.7"
  }
 },
 "nbformat": 4,
 "nbformat_minor": 5
}
