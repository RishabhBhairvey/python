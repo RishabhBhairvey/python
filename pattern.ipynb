{
 "cells": [
  {
   "cell_type": "code",
   "execution_count": 1,
   "id": "49d6fa2f-5608-4fa2-8ec5-5edc8d1e62c1",
   "metadata": {},
   "outputs": [
    {
     "name": "stdin",
     "output_type": "stream",
     "text": [
      "enter counts of star 5\n"
     ]
    },
    {
     "name": "stdout",
     "output_type": "stream",
     "text": [
      "*****\n",
      "*****\n",
      "*****\n",
      "*****\n",
      "*****\n"
     ]
    }
   ],
   "source": [
    "# pattern right angle tringle( RAT)\n",
    "n=int(input(\"enter counts of star\"))\n",
    "i=1\n",
    "while i<=n:\n",
    "    print('*'*n)\n",
    "    i=i+1\n",
    "\n"
   ]
  },
  {
   "cell_type": "code",
   "execution_count": 3,
   "id": "aebfab10-c99b-4e8a-9238-b7f2cd797f76",
   "metadata": {},
   "outputs": [
    {
     "name": "stdin",
     "output_type": "stream",
     "text": [
      "enter counts of star 5\n"
     ]
    },
    {
     "name": "stdout",
     "output_type": "stream",
     "text": [
      "    *\n",
      "   **\n",
      "  ***\n",
      " ****\n",
      "*****\n"
     ]
    }
   ],
   "source": [
    "n=int(input(\"enter counts of star\"))\n",
    "i=1\n",
    "while i<=n:\n",
    "    print(' '*(n-i)+'*'*i)\n",
    "    i=i+1"
   ]
  },
  {
   "cell_type": "code",
   "execution_count": null,
   "id": "f6bdcbf7-efe7-40eb-896e-c25582031210",
   "metadata": {},
   "outputs": [],
   "source": [
    "n=int(input(\"enter counts of star\"))\n",
    "i=1\n",
    "while i<=n:\n",
    "    print(' '*(n-i)+'* '*i)\n",
    "    i=i+1"
   ]
  },
  {
   "cell_type": "code",
   "execution_count": null,
   "id": "9f5466c2-b628-42d9-b18f-11e91f05bf82",
   "metadata": {},
   "outputs": [],
   "source": [
    "n=int(input(\"enter counts of star\"))\n",
    "i=0\n",
    "while i<=n:\n",
    "    print(' '*i+'*'*(n-i))\n",
    "    i=i+1"
   ]
  },
  {
   "cell_type": "code",
   "execution_count": null,
   "id": "029d0836-37b7-4f66-a1ac-e6e1553a12ae",
   "metadata": {},
   "outputs": [],
   "source": [
    "n=int(input(\"enter counts of star\"))\n",
    "i=0\n",
    "while i<=n:\n",
    "    print(' '*i+'* '*(n-i))\n",
    "    i=i+1"
   ]
  },
  {
   "cell_type": "code",
   "execution_count": null,
   "id": "3b93fec1-f0f3-41f5-86e8-62dce713fa45",
   "metadata": {},
   "outputs": [],
   "source": [
    "n=int(input(\"enter counts of star\"))\n",
    "\n",
    "while n>0:\n",
    "    print('*'*n)\n",
    "    n=n-1"
   ]
  },
  {
   "cell_type": "code",
   "execution_count": null,
   "id": "cd7af852-e12b-4be4-bdf9-d25ea076ff01",
   "metadata": {},
   "outputs": [],
   "source": [
    "n=int(input('enter counts of star'))\n",
    "i=0\n",
    "while i<n:\n",
    "    print('*'*(n-i)+' '*i)\n",
    "    i=i+1\n",
    "\n",
    "i=i-2\n",
    "while i>=0:\n",
    "    print('*'*(n-i)+' '*i)\n",
    "    i=i-1"
   ]
  },
  {
   "cell_type": "code",
   "execution_count": null,
   "id": "49aca293-fe2c-4da6-a682-0e035924b7e0",
   "metadata": {},
   "outputs": [],
   "source": [
    "n=int(input('enter counts of star'))\n",
    "i=0\n",
    "while i<n:\n",
    "    print(' '*i+'*'*(n-i))\n",
    "    i=i+1\n",
    "\n",
    "i=i-2\n",
    "while i>=0:\n",
    "    print(' '*i+'*'*(n-i))\n",
    "    i=i-1"
   ]
  },
  {
   "cell_type": "code",
   "execution_count": null,
   "id": "60d65254-117a-4da2-bbcf-16ed11e85287",
   "metadata": {},
   "outputs": [],
   "source": [
    "n=int(input('enter counts of star'))\n",
    "i=0\n",
    "while i<n:\n",
    "    print(' '*i+' *'*(n-i))\n",
    "    i=i+1\n",
    "\n",
    "i=i-2\n",
    "while i>=0:\n",
    "    print(' '*i+' *'*(n-i))\n",
    "    i=i-1"
   ]
  },
  {
   "cell_type": "code",
   "execution_count": null,
   "id": "7fff914c-d305-45c5-bb7b-fe771fb29ce1",
   "metadata": {},
   "outputs": [],
   "source": [
    "n=int(input('enter counts of star'))\n",
    "i=0\n",
    "while i<=n:\n",
    "    print(' '*(n-1)+'* '*i)\n",
    "    i=i+1\n",
    "\n",
    "i=i-2\n",
    "while i>=0:\n",
    "    print(' '*(n-1)+'* '*i)\n",
    "    i=i-1"
   ]
  },
  {
   "cell_type": "code",
   "execution_count": null,
   "id": "4307460b-0214-4073-9dc9-fa4cb4cf047a",
   "metadata": {},
   "outputs": [],
   "source": []
  }
 ],
 "metadata": {
  "kernelspec": {
   "display_name": "Python [conda env:base] *",
   "language": "python",
   "name": "conda-base-py"
  },
  "language_info": {
   "codemirror_mode": {
    "name": "ipython",
    "version": 3
   },
   "file_extension": ".py",
   "mimetype": "text/x-python",
   "name": "python",
   "nbconvert_exporter": "python",
   "pygments_lexer": "ipython3",
   "version": "3.12.7"
  }
 },
 "nbformat": 4,
 "nbformat_minor": 5
}
