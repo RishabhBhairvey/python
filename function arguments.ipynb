{
 "cells": [
  {
   "cell_type": "code",
   "execution_count": 11,
   "id": "fc73727c-29f6-4a59-9fd1-6130eca2fd33",
   "metadata": {},
   "outputs": [
    {
     "name": "stdout",
     "output_type": "stream",
     "text": [
      "value of x= 10\n",
      "value of y= 20\n",
      "value of z= 30\n",
      "10 20 30\n"
     ]
    }
   ],
   "source": [
    "#keyword argument\n",
    "def fibo(x,y,z):\n",
    "    print(\"value of x=\",x)\n",
    "    print(\"value of y=\",y)\n",
    "    print(\"value of z=\",z)\n",
    "    print(x,y,z)\n",
    "x=10\n",
    "y=20\n",
    "z=30\n",
    "fibo(x,y,z)\n",
    "    "
   ]
  },
  {
   "cell_type": "code",
   "execution_count": 15,
   "id": "736ce9eb-6b89-4e9b-835f-84b82c0ac219",
   "metadata": {},
   "outputs": [
    {
     "name": "stdout",
     "output_type": "stream",
     "text": [
      "15 0 0\n",
      "12 14 0\n"
     ]
    }
   ],
   "source": [
    "#default argument\n",
    "def fibo(x=0,y=0,z=0):\n",
    "    print(x,y,z)\n",
    "x=15\n",
    "y=12\n",
    "z=14\n",
    "fibo(x)\n",
    "fibo(y,z)"
   ]
  },
  {
   "cell_type": "code",
   "execution_count": 23,
   "id": "5ebcaa6e-7ab2-40ce-84cb-209b23b1b8e0",
   "metadata": {},
   "outputs": [
    {
     "name": "stdout",
     "output_type": "stream",
     "text": [
      "(1, 2, 3, 4, 5, 6, 7, 64, 3, 5, 43)\n",
      "<class 'tuple'>\n",
      "None\n"
     ]
    }
   ],
   "source": [
    "#var len positional argument\n",
    "def fibo(*args):      #star is use to hold address of all eliment\n",
    "    print(args)\n",
    "    print(type(args))\n",
    "o=fibo(1,2,3,4,5,6,7,64,3,5,43)\n",
    "print(o)\n"
   ]
  },
  {
   "cell_type": "code",
   "execution_count": 27,
   "id": "3c351bf1-b71b-4aea-a36e-ab1205a53c18",
   "metadata": {},
   "outputs": [
    {
     "name": "stdout",
     "output_type": "stream",
     "text": [
      "73\n"
     ]
    }
   ],
   "source": [
    "def fibo(*n):\n",
    "    sum=0\n",
    "    for i in n:\n",
    "        sum=sum+i\n",
    "    return sum\n",
    "x=fibo(1,2,3,4,5,6,7,45)\n",
    "print(x)"
   ]
  },
  {
   "cell_type": "code",
   "execution_count": 38,
   "id": "57ee1026-9786-4c61-903c-780c94fe0df5",
   "metadata": {},
   "outputs": [
    {
     "name": "stdout",
     "output_type": "stream",
     "text": [
      "25\n"
     ]
    }
   ],
   "source": [
    "def fibo(*n):\n",
    "    sum=0\n",
    "    for i in n:\n",
    "        for j in i:\n",
    "            sum=sum+j\n",
    "    return sum\n",
    "p=(2,5,3,6,9)\n",
    "x=fibo(p)\n",
    "print(x)"
   ]
  },
  {
   "cell_type": "code",
   "execution_count": null,
   "id": "32599dc6-1dfe-4cbd-8813-deb70e3022d3",
   "metadata": {},
   "outputs": [],
   "source": []
  },
  {
   "cell_type": "code",
   "execution_count": null,
   "id": "a4ae58e4-9394-41a9-9aea-3ad2aed96b26",
   "metadata": {},
   "outputs": [],
   "source": []
  }
 ],
 "metadata": {
  "kernelspec": {
   "display_name": "Python [conda env:base] *",
   "language": "python",
   "name": "conda-base-py"
  },
  "language_info": {
   "codemirror_mode": {
    "name": "ipython",
    "version": 3
   },
   "file_extension": ".py",
   "mimetype": "text/x-python",
   "name": "python",
   "nbconvert_exporter": "python",
   "pygments_lexer": "ipython3",
   "version": "3.12.7"
  }
 },
 "nbformat": 4,
 "nbformat_minor": 5
}
