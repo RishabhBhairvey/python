{
 "cells": [
  {
   "cell_type": "code",
   "execution_count": null,
   "id": "0b863651-01b3-43b0-8093-fb16776725fd",
   "metadata": {},
   "outputs": [],
   "source": [
    "#filter it is filter to the data from the collection\n",
    "#syntex-> filter( function_name,collection)\n",
    "#Q:- filter even no from given collection\n",
    "\n",
    "l=(1,2,3,4,5,6,7,8,9,10)\n",
    "def even(n):\n",
    "    if n%2==0:\n",
    "        return n\n",
    "x=filter(even,l)\n",
    "print (x)\n",
    "print(list(x))\n"
   ]
  },
  {
   "cell_type": "code",
   "execution_count": null,
   "id": "00fb5981-d53d-4626-b388-fd41d3356aca",
   "metadata": {},
   "outputs": [],
   "source": [
    "#Q greater then 5\n",
    "l=[1,2,3,4,5,6,7,8,9]\n",
    "l1=[]\n",
    "for i in l:\n",
    "    if i>=5:\n",
    "        l1.append(i)\n",
    "        print(l1)"
   ]
  },
  {
   "cell_type": "code",
   "execution_count": null,
   "id": "5e729fb7-21b9-4cbc-b82e-8a2bc62db14a",
   "metadata": {},
   "outputs": [],
   "source": [
    "'''reduse () return single value the collection\n",
    "   functools iska use hota h collection se 1 element ko target krne ka isko 2 tarha se kr skate h functools and reduse \n",
    "\n",
    "functools\n",
    "synter() import functools\n",
    "         functools.reduce(fun_name,collection)\n",
    "\n",
    "=> reduse method\n",
    "form functools import reduce\n",
    "reduce(fun.name,collection)\n",
    "'''\n",
    "#q=> collection me se subse bada element nikalo\n",
    "\n",
    "from functools import reduce \n",
    "l=[4,2,6,84,4,67]\n",
    "def max_no(x,y):\n",
    "    if x>y:\n",
    "        return x\n",
    "    else:\n",
    "        return y\n",
    "x=reduce(max_no,l)\n",
    "print(x)"
   ]
  },
  {
   "cell_type": "code",
   "execution_count": null,
   "id": "2e2ceea6-ed21-4398-830c-d172672197bb",
   "metadata": {},
   "outputs": [],
   "source": [
    "#q=> collection me se subse chota element nikalo\n",
    "\n",
    "from functools import reduce \n",
    "l=[4,2,6,84,4,67]\n",
    "def max_no(x,y):\n",
    "    if x<y:\n",
    "        return x\n",
    "    else:\n",
    "        return y\n",
    "x=reduce(max_no,l)\n",
    "print(x)"
   ]
  },
  {
   "cell_type": "code",
   "execution_count": null,
   "id": "2679b5ce-ce32-4c77-8509-25e859555aa2",
   "metadata": {},
   "outputs": [],
   "source": []
  }
 ],
 "metadata": {
  "kernelspec": {
   "display_name": "Python [conda env:base] *",
   "language": "python",
   "name": "conda-base-py"
  },
  "language_info": {
   "codemirror_mode": {
    "name": "ipython",
    "version": 3
   },
   "file_extension": ".py",
   "mimetype": "text/x-python",
   "name": "python",
   "nbconvert_exporter": "python",
   "pygments_lexer": "ipython3",
   "version": "3.12.7"
  }
 },
 "nbformat": 4,
 "nbformat_minor": 5
}
