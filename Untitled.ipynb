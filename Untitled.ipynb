{
 "cells": [
  {
   "cell_type": "code",
   "execution_count": null,
   "id": "c87c907b-fcfc-4566-b6c1-2bee5138f803",
   "metadata": {},
   "outputs": [],
   "source": [
    "s1='p'\n",
    "s2='o'\n",
    "s3='o'\n",
    "s4='j'\n",
    "s5='a'\n",
    "t=\"I LOVE YOU\"\n",
    "z=(s1+s2+s3+s4+s5+' '+t)\n",
    "print(z)"
   ]
  }
 ],
 "metadata": {
  "kernelspec": {
   "display_name": "Python [conda env:base] *",
   "language": "python",
   "name": "conda-base-py"
  },
  "language_info": {
   "codemirror_mode": {
    "name": "ipython",
    "version": 3
   },
   "file_extension": ".py",
   "mimetype": "text/x-python",
   "name": "python",
   "nbconvert_exporter": "python",
   "pygments_lexer": "ipython3",
   "version": "3.12.7"
  }
 },
 "nbformat": 4,
 "nbformat_minor": 5
}
