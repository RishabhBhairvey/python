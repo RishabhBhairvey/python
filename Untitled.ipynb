{
 "cells": [
  {
   "cell_type": "code",
   "execution_count": null,
   "id": "47dc269d-afdf-4e76-8adc-b1eb3e9c3f24",
   "metadata": {},
   "outputs": [],
   "source": [
    "n=int(input(\"enter a no\"))\n",
    "x,y,i= 0,1,1\n",
    "while i<=n:\n",
    "    z=x+y\n",
    "    if i<n:\n",
    "        print(z,end=',')\n",
    "    else:\n",
    "        print(z)\n",
    "    x,y=y,z\n",
    "    i=i+1\n",
    "    "
   ]
  },
  {
   "cell_type": "code",
   "execution_count": 3,
   "id": "e62cc7ac-1d77-4003-b57a-570e8645ca50",
   "metadata": {},
   "outputs": [
    {
     "name": "stdin",
     "output_type": "stream",
     "text": [
      "enter input 153\n"
     ]
    },
    {
     "name": "stdout",
     "output_type": "stream",
     "text": [
      "1\n",
      "15\n",
      "2\n",
      "1\n",
      "3\n",
      "0\n",
      "27\n",
      "15\n",
      "152\n",
      "1\n",
      "153\n",
      "0\n",
      "is arm.\n"
     ]
    }
   ],
   "source": [
    "#armstrong \n",
    "n=int(input('enter input'))\n",
    "x=y=n\n",
    "digit=0\n",
    "s=0\n",
    "while n>0:\n",
    "    digit=digit+1\n",
    "    n=n//10\n",
    "    print(digit)\n",
    "    print(n)\n",
    "while x>0:\n",
    "        l=x%10\n",
    "        s=s+l**digit\n",
    "        x=x//10\n",
    "        print(s)\n",
    "        print(x)\n",
    "if y==s:\n",
    "            print('is arm.')\n",
    "else:\n",
    "            print('is not arm.')"
   ]
  },
  {
   "cell_type": "code",
   "execution_count": 13,
   "id": "6ca6cd00-2ab0-4f63-92f4-dda65b5216ec",
   "metadata": {},
   "outputs": [
    {
     "name": "stdin",
     "output_type": "stream",
     "text": [
      "enter any no. 826\n"
     ]
    },
    {
     "name": "stdout",
     "output_type": "stream",
     "text": [
      "is not\n"
     ]
    }
   ],
   "source": [
    "#palindrom with slice \n",
    "n=input('enter any no.')\n",
    "if n==n[::-1]:\n",
    "    print('is palindrom')\n",
    "else:\n",
    "    print('is not')"
   ]
  },
  {
   "cell_type": "code",
   "execution_count": null,
   "id": "a88dcde1-2ee4-4f99-844e-d132db32c071",
   "metadata": {},
   "outputs": [],
   "source": []
  },
  {
   "cell_type": "code",
   "execution_count": null,
   "id": "a4a6270f-ba34-4ada-9337-51b1b8770df4",
   "metadata": {},
   "outputs": [],
   "source": []
  }
 ],
 "metadata": {
  "kernelspec": {
   "display_name": "Python [conda env:base] *",
   "language": "python",
   "name": "conda-base-py"
  },
  "language_info": {
   "codemirror_mode": {
    "name": "ipython",
    "version": 3
   },
   "file_extension": ".py",
   "mimetype": "text/x-python",
   "name": "python",
   "nbconvert_exporter": "python",
   "pygments_lexer": "ipython3",
   "version": "3.12.7"
  }
 },
 "nbformat": 4,
 "nbformat_minor": 5
}
