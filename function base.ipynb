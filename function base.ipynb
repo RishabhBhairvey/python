{
 "cells": [
  {
   "cell_type": "code",
   "execution_count": null,
   "id": "93f7dc9f-c5e5-4cde-9340-18a7a146c8b0",
   "metadata": {},
   "outputs": [],
   "source": [
    "#function\n",
    "'''type 2#function\n",
    "1 inbuilt function\n",
    "2 user define\n",
    "**---> inbuilt fn.\n",
    "1print()\n",
    "2 type()\n",
    "3 id()\n",
    "4 max()\n",
    "5 min()\n",
    "6 len()\n",
    "\n",
    "\n",
    "#syntex\n",
    "def function_name(parametrs):\n",
    "    used variables are\n",
    "    declare as a parameters\n",
    "    perform operation\n",
    "    return (keyword to terminate function)\n",
    "fn._name(argument)  #(value againts declare parameters)\n",
    "\n",
    "\n",
    "#requiread \n",
    "->def(keyword)\n",
    "->fn._name\n",
    "\n",
    "#operation\n",
    "-> parameters\n",
    "->arguments\n",
    "->return(keyword)\n",
    "'''\n"
   ]
  },
  {
   "cell_type": "code",
   "execution_count": null,
   "id": "0138982e-669a-4cbb-abd9-29ef4853bd26",
   "metadata": {},
   "outputs": [],
   "source": [
    "def hello():\n",
    "    pass\n",
    "hello()\n",
    "print(hello())"
   ]
  },
  {
   "cell_type": "code",
   "execution_count": null,
   "id": "5e48b4f0-2b99-48d7-ace3-6022da6332a3",
   "metadata": {},
   "outputs": [],
   "source": [
    "def hello():\n",
    "    return 'hello'\n",
    "hello()\n",
    "print(hello())"
   ]
  },
  {
   "cell_type": "code",
   "execution_count": null,
   "id": "60122cd9-a2d1-423a-bc6b-27a8272b040d",
   "metadata": {},
   "outputs": [],
   "source": [
    "def hello():\n",
    "    return ''\n",
    "hello()\n",
    "print(hello())"
   ]
  },
  {
   "cell_type": "code",
   "execution_count": null,
   "id": "4f3cb6a7-48ba-4245-b7e6-f4aed05ed5c9",
   "metadata": {},
   "outputs": [],
   "source": [
    "def hello():\n",
    "    print('hello')\n",
    "hello()\n"
   ]
  },
  {
   "cell_type": "code",
   "execution_count": null,
   "id": "00ca3931-730b-4726-9a8a-81a8d5aa4a4c",
   "metadata": {},
   "outputs": [],
   "source": [
    "def hello():\n",
    "    print('hello')\n",
    "\n",
    "x=hello()\n",
    "print(x)\n",
    "print(x)\n",
    "print(x)\n",
    "print(x)"
   ]
  },
  {
   "cell_type": "code",
   "execution_count": null,
   "id": "c37c9b01-8966-4803-b6bd-858ba4f15ddb",
   "metadata": {},
   "outputs": [],
   "source": [
    "def hello():\n",
    "    return 'hello'\n",
    "\n",
    "x=hello()\n",
    "print(x)\n",
    "print(x)\n",
    "print(x)\n",
    "print(x)\n"
   ]
  },
  {
   "cell_type": "code",
   "execution_count": null,
   "id": "16a30feb-8ede-4d0a-a152-f83286f76e6a",
   "metadata": {},
   "outputs": [],
   "source": [
    "#natural no using function\n",
    "def netural_no(n):\n",
    "    for i in range(1,n+1):\n",
    "        print(i)\n",
    "x=int(input(\"enter a no.\"))\n",
    "netural_no(x)"
   ]
  },
  {
   "cell_type": "code",
   "execution_count": null,
   "id": "6571c3dc-5b15-4d72-9889-527a9bf4cd37",
   "metadata": {},
   "outputs": [],
   "source": [
    "def netural_no(n):\n",
    "    for i in range(1,n+1,2):\n",
    "        print(i)\n",
    "x=int(input(\"enter a no.\"))\n",
    "netural_no(x)"
   ]
  },
  {
   "cell_type": "code",
   "execution_count": null,
   "id": "838757d8-78d3-475f-8967-ddbe3e3690f8",
   "metadata": {},
   "outputs": [],
   "source": [
    "def netural_no(n):\n",
    "    for i in range(2,n+1,2):\n",
    "        print(i)\n",
    "x=int(input(\"enter a no.\"))\n",
    "netural_no(x)"
   ]
  },
  {
   "cell_type": "code",
   "execution_count": null,
   "id": "2a52d857-572c-4617-9d54-11095b27c320",
   "metadata": {},
   "outputs": [],
   "source": [
    "def netural_no(n):\n",
    "    sum=0\n",
    "    for i in range(2,n+1,2):\n",
    "        sum=sum+i\n",
    "    return sum\n",
    "n=int(input(\"enter a no.\"))\n",
    "t=netural_no(n)\n",
    "print(t)\n"
   ]
  },
  {
   "cell_type": "code",
   "execution_count": 14,
   "id": "9e37c74c-498a-4ebb-9e31-b4284b1aa245",
   "metadata": {},
   "outputs": [
    {
     "name": "stdin",
     "output_type": "stream",
     "text": [
      "enter a no. 5\n"
     ]
    },
    {
     "name": "stdout",
     "output_type": "stream",
     "text": [
      "1\n",
      "2\n",
      "6\n",
      "24\n",
      "120\n",
      "120\n"
     ]
    }
   ],
   "source": [
    "#function factorial\n",
    "def factorial(n):\n",
    "    r=1\n",
    "    for i in range(1,n+1):\n",
    "        r=r*i\n",
    "        print(r)\n",
    "    return r\n",
    "x=int(input('enter a no.'))\n",
    "p=factorial(x)\n",
    "print(p)"
   ]
  },
  {
   "cell_type": "code",
   "execution_count": 26,
   "id": "ad6c6337-4a22-407a-b0cc-9b8c41ad4fb6",
   "metadata": {},
   "outputs": [
    {
     "name": "stdin",
     "output_type": "stream",
     "text": [
      "enter any no. 12\n"
     ]
    },
    {
     "name": "stdout",
     "output_type": "stream",
     "text": [
      "1\n",
      "2\n",
      "3\n",
      "4\n",
      "6\n",
      "12\n"
     ]
    }
   ],
   "source": [
    "#factor of a no.\n",
    "def factor(n):\n",
    "    for i in range(1,n+1):\n",
    "        if(n%i==0):\n",
    "            print(i)\n",
    "f=int(input(\"enter any no.\"))\n",
    "factor(f)\n"
   ]
  },
  {
   "cell_type": "code",
   "execution_count": null,
   "id": "c6ac28aa-485a-4401-a051-0e6d68cdb6fe",
   "metadata": {},
   "outputs": [],
   "source": []
  }
 ],
 "metadata": {
  "kernelspec": {
   "display_name": "Python [conda env:base] *",
   "language": "python",
   "name": "conda-base-py"
  },
  "language_info": {
   "codemirror_mode": {
    "name": "ipython",
    "version": 3
   },
   "file_extension": ".py",
   "mimetype": "text/x-python",
   "name": "python",
   "nbconvert_exporter": "python",
   "pygments_lexer": "ipython3",
   "version": "3.12.7"
  }
 },
 "nbformat": 4,
 "nbformat_minor": 5
}
