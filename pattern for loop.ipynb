{
 "cells": [
  {
   "cell_type": "code",
   "execution_count": 4,
   "id": "59bdc61a-5dc1-4101-a627-8ba4a33d02f2",
   "metadata": {},
   "outputs": [
    {
     "name": "stdout",
     "output_type": "stream",
     "text": [
      "enter a no 10\n"
     ]
    },
    {
     "name": "stdout",
     "output_type": "stream",
     "text": [
      "55\n"
     ]
    }
   ],
   "source": [
    "#sum of natural no.\n",
    "n=int(input(\"enter a no\"))\n",
    "sum=0\n",
    "for i in range(1,n+1):\n",
    "    sum=sum+i\n",
    "print(sum)\n"
   ]
  },
  {
   "cell_type": "code",
   "execution_count": 12,
   "id": "769f68d5-6bdd-4325-8f88-a7896d30c007",
   "metadata": {},
   "outputs": [
    {
     "name": "stdout",
     "output_type": "stream",
     "text": [
      "enter a no. 5\n"
     ]
    },
    {
     "name": "stdout",
     "output_type": "stream",
     "text": [
      "    *\n",
      "   **\n",
      "  ***\n",
      " ****\n",
      "*****\n"
     ]
    }
   ],
   "source": [
    "#pattern with for loop RAT\n",
    "n=int(input(\"enter a no.\"))\n",
    "for i in range(1,n+1):\n",
    "    print(' '*(n-i)+'*'*i)"
   ]
  },
  {
   "cell_type": "code",
   "execution_count": 14,
   "id": "0f810126-dc4e-4a16-ab40-3f5e1f77e19e",
   "metadata": {},
   "outputs": [
    {
     "name": "stdout",
     "output_type": "stream",
     "text": [
      "enter a no. 5\n"
     ]
    },
    {
     "name": "stdout",
     "output_type": "stream",
     "text": [
      "    * \n",
      "   * * \n",
      "  * * * \n",
      " * * * * \n",
      "* * * * * \n"
     ]
    }
   ],
   "source": [
    "#pattern with for loop Tringle\n",
    "n=int(input(\"enter a no.\"))\n",
    "for i in range(1,n+1):\n",
    "    print(' '*(n-i)+'* '*i)"
   ]
  },
  {
   "cell_type": "code",
   "execution_count": 18,
   "id": "b2383b14-3a76-42f9-8b27-a3b4fc33b1a8",
   "metadata": {},
   "outputs": [
    {
     "name": "stdout",
     "output_type": "stream",
     "text": [
      "enter a no. 5\n"
     ]
    },
    {
     "name": "stdout",
     "output_type": "stream",
     "text": [
      "*****\n",
      "**** \n",
      "***  \n",
      "**   \n",
      "*    \n"
     ]
    }
   ],
   "source": [
    "#lower case or piramid\n",
    "n=int(input(\"enter a no.\"))\n",
    "for i in range(n):\n",
    "    print('*'*(n-i)+' '*i)"
   ]
  },
  {
   "cell_type": "code",
   "execution_count": 20,
   "id": "a88f8ab4-87a5-44b9-a4ef-e86783c9f7f8",
   "metadata": {},
   "outputs": [
    {
     "name": "stdout",
     "output_type": "stream",
     "text": [
      "enter a no. 5\n"
     ]
    },
    {
     "name": "stdout",
     "output_type": "stream",
     "text": [
      "*****\n",
      " ****\n",
      "  ***\n",
      "   **\n",
      "    *\n"
     ]
    }
   ],
   "source": [
    "\n",
    "n=int(input(\"enter a no.\"))\n",
    "for i in range(n):\n",
    "    print(' '*i+'*'*(n-i))"
   ]
  },
  {
   "cell_type": "code",
   "execution_count": 24,
   "id": "d4e8885c-1a87-4f07-a035-e55c5e13af18",
   "metadata": {},
   "outputs": [
    {
     "name": "stdout",
     "output_type": "stream",
     "text": [
      "enter a no. 5\n"
     ]
    },
    {
     "name": "stdout",
     "output_type": "stream",
     "text": [
      "* * * * * \n",
      " * * * * \n",
      "  * * * \n",
      "   * * \n",
      "    * \n"
     ]
    }
   ],
   "source": [
    "n=int(input(\"enter a no.\"))\n",
    "for i in range(n):\n",
    "    print(' '*i+'* '*(n-i))"
   ]
  },
  {
   "cell_type": "code",
   "execution_count": 32,
   "id": "dcbed98a-e839-43e2-9abb-407e64abfd3b",
   "metadata": {},
   "outputs": [
    {
     "name": "stdout",
     "output_type": "stream",
     "text": [
      "enter a no. 5\n"
     ]
    },
    {
     "name": "stdout",
     "output_type": "stream",
     "text": [
      "*      \n",
      "**      \n",
      "***      \n",
      "****      \n",
      "*****      \n",
      "****    \n",
      "***    \n",
      "**    \n",
      "*    \n"
     ]
    }
   ],
   "source": [
    "#half left dia.\n",
    "n=int(input(\"enter a no.\"))\n",
    "for i in range(1,n+1):\n",
    "    print('*'*i+' '*(n+1))\n",
    "for i in range(n-1,0,-1):\n",
    "    print('*'*i+' '*(n-1))"
   ]
  },
  {
   "cell_type": "code",
   "execution_count": 40,
   "id": "2438e0fc-7b23-48e3-8c8e-1c25e965d321",
   "metadata": {},
   "outputs": [
    {
     "name": "stdout",
     "output_type": "stream",
     "text": [
      "enter a no. 5\n"
     ]
    },
    {
     "name": "stdout",
     "output_type": "stream",
     "text": [
      "    *\n",
      "   **\n",
      "  ***\n",
      " ****\n",
      "*****\n",
      " ****\n",
      "  ***\n",
      "   **\n",
      "    *\n"
     ]
    }
   ],
   "source": [
    "#half right dimond\n",
    "n=int(input(\"enter a no.\"))\n",
    "for i in range(1,n+1):\n",
    "    print(' '*(n-i)+'*'*i)\n",
    "for i in range(n-1,0,-1):\n",
    "    print(' '*(n-i)+'*'*i)"
   ]
  },
  {
   "cell_type": "code",
   "execution_count": 42,
   "id": "2c0edf13-ca69-4464-a141-ec4e54a43cb5",
   "metadata": {},
   "outputs": [
    {
     "name": "stdout",
     "output_type": "stream",
     "text": [
      "enter a no. 5\n"
     ]
    },
    {
     "name": "stdout",
     "output_type": "stream",
     "text": [
      "    * \n",
      "   * * \n",
      "  * * * \n",
      " * * * * \n",
      "* * * * * \n",
      " * * * * \n",
      "  * * * \n",
      "   * * \n",
      "    * \n"
     ]
    }
   ],
   "source": [
    "#dimond\n",
    "n=int(input(\"enter a no.\"))\n",
    "for i in range(1,n+1):\n",
    "    print(' '*(n-i)+'* '*i)\n",
    "for i in range(n-1,0,-1):\n",
    "    print(' '*(n-i)+'* '*i)"
   ]
  },
  {
   "cell_type": "code",
   "execution_count": 76,
   "id": "912b1723-397d-4d43-a1fa-4762fb6fff85",
   "metadata": {},
   "outputs": [
    {
     "name": "stdout",
     "output_type": "stream",
     "text": [
      "enter a no 5\n"
     ]
    },
    {
     "name": "stdout",
     "output_type": "stream",
     "text": [
      "*****\n",
      "**** \n",
      "***  \n",
      "**   \n",
      "*    \n"
     ]
    }
   ],
   "source": [
    "#B shape \n",
    "n=int(input('enter a no'))\n",
    "for i in range(n):\n",
    "     print('*'*(n-i)+' '*i)\n",
    "for i in range(n+1,6):\n",
    "    print('*'*i+' '*(n-i))\n"
   ]
  },
  {
   "cell_type": "code",
   "execution_count": null,
   "id": "345b10dd-8e91-46f0-80fc-a397cfe575e0",
   "metadata": {},
   "outputs": [
    {
     "ename": "",
     "evalue": "",
     "output_type": "error",
     "traceback": [
      "\u001b[1;31mRunning cells with 'Python 3.11.9' requires the ipykernel package.\n",
      "\u001b[1;31mRun the following command to install 'ipykernel' into the Python environment. \n",
      "\u001b[1;31mCommand: 'c:/Users/bhair/AppData/Local/Microsoft/WindowsApps/PythonSoftwareFoundation.Python.3.11_qbz5n2kfra8p0/python.exe -m pip install ipykernel -U --user --force-reinstall'"
     ]
    }
   ],
   "source": [
    "n=int(input(\"enter a no.\"))\n",
    "for i in range(1,n+1):\n",
    "    print('*'*i+' '*(n-i))"
   ]
  }
 ],
 "metadata": {
  "kernelspec": {
   "display_name": "Python [conda env:base] *",
   "language": "python",
   "name": "conda-base-py"
  },
  "language_info": {
   "codemirror_mode": {
    "name": "ipython",
    "version": 3
   },
   "file_extension": ".py",
   "mimetype": "text/x-python",
   "name": "python",
   "nbconvert_exporter": "python",
   "pygments_lexer": "ipython3",
   "version": "3.12.7"
  }
 },
 "nbformat": 4,
 "nbformat_minor": 5
}
