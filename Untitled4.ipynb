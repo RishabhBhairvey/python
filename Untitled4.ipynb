{
 "cells": [
  {
   "cell_type": "code",
   "execution_count": 14,
   "id": "c37c49fd-a983-4030-b1f6-17e6b0736333",
   "metadata": {},
   "outputs": [
    {
     "name": "stdout",
     "output_type": "stream",
     "text": [
      "rishabh\n",
      "vsss\n",
      "10th\n",
      "rinku\n",
      "vsss\n",
      "11th\n"
     ]
    }
   ],
   "source": [
    "#methods\n",
    "#class method\n",
    "class Student:\n",
    "    school='vsss'\n",
    "    gread='10th'\n",
    "    def __init__(self,name):\n",
    "        self.n=name\n",
    "    def show_details(self):\n",
    "        print(self.n)\n",
    "        print(Student.school)\n",
    "        print(Student.gread)\n",
    "    @classmethod\n",
    "    def update_gread(cls,update):\n",
    "            cls.gread=update\n",
    "obj=Student('rishabh')\n",
    "obj.show_details()\n",
    "Student.update_gread('11th')\n",
    "obj2=Student('rinku')\n",
    "obj2.show_details()"
   ]
  },
  {
   "cell_type": "code",
   "execution_count": 24,
   "id": "e13dd3df-42c1-430f-87f8-b93527a2cce7",
   "metadata": {},
   "outputs": [
    {
     "ename": "AttributeError",
     "evalue": "type object 'Student' has no attribute 'add_new'",
     "output_type": "error",
     "traceback": [
      "\u001b[1;31m---------------------------------------------------------------------------\u001b[0m",
      "\u001b[1;31mAttributeError\u001b[0m                            Traceback (most recent call last)",
      "Cell \u001b[1;32mIn[24], line 19\u001b[0m\n\u001b[0;32m     17\u001b[0m obj2\u001b[38;5;241m=\u001b[39mStudent(\u001b[38;5;124m'\u001b[39m\u001b[38;5;124mrinku\u001b[39m\u001b[38;5;124m'\u001b[39m)\n\u001b[0;32m     18\u001b[0m \u001b[38;5;66;03m#obj2.show_details()\u001b[39;00m\n\u001b[1;32m---> 19\u001b[0m Student\u001b[38;5;241m.\u001b[39madd_new(\u001b[38;5;124m'\u001b[39m\u001b[38;5;124mBhopal\u001b[39m\u001b[38;5;124m'\u001b[39m)\n\u001b[0;32m     20\u001b[0m obj2\u001b[38;5;241m.\u001b[39mshow_details\n",
      "\u001b[1;31mAttributeError\u001b[0m: type object 'Student' has no attribute 'add_new'"
     ]
    }
   ],
   "source": [
    "class Student:\n",
    "    school='vsss'\n",
    "    gread='10th'\n",
    "    def __init__(self,name):\n",
    "        self.n=name\n",
    "    def show_details(self):\n",
    "        print(self.n)\n",
    "        print(Student.school)\n",
    "        print(Student.gread)\n",
    "        print(Student.city)\n",
    "    @classmethod\n",
    "    def update_gread(cls,city):\n",
    "            cls.city=city\n",
    "obj=Student('rishabh')\n",
    "#obj.show_details()\n",
    "#Student.update_gread('11th')\n",
    "obj2=Student('rinku')\n",
    "#obj2.show_details()\n",
    "Student.add_new('Bhopal')\n",
    "obj2.show_details"
   ]
  },
  {
   "cell_type": "code",
   "execution_count": null,
   "id": "51d83d85-1249-475a-bcf0-b76c045b1245",
   "metadata": {},
   "outputs": [],
   "source": [
    "#static method\n"
   ]
  }
 ],
 "metadata": {
  "kernelspec": {
   "display_name": "Python [conda env:base] *",
   "language": "python",
   "name": "conda-base-py"
  },
  "language_info": {
   "codemirror_mode": {
    "name": "ipython",
    "version": 3
   },
   "file_extension": ".py",
   "mimetype": "text/x-python",
   "name": "python",
   "nbconvert_exporter": "python",
   "pygments_lexer": "ipython3",
   "version": "3.12.7"
  }
 },
 "nbformat": 4,
 "nbformat_minor": 5
}
