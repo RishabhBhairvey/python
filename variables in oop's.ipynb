{
 "cells": [
  {
   "cell_type": "code",
   "execution_count": null,
   "id": "d22bbbae-aeef-4afb-b28e-e5c11ae6f1a4",
   "metadata": {},
   "outputs": [],
   "source": [
    "#oop's class/static var.\n",
    "class Student:\n",
    "    school='vsss'                 #declaration in-side class body\n",
    "    def __init__(self,name):\n",
    "        self.n=name\n",
    "obj1=Student('rishu')\n",
    "obj2=Student('rinku')\n",
    "print(obj1.school)\n",
    "print(obj2.school)"
   ]
  },
  {
   "cell_type": "code",
   "execution_count": 24,
   "id": "792ed7bb-899d-4baa-84f7-912759176dc0",
   "metadata": {},
   "outputs": [
    {
     "name": "stdout",
     "output_type": "stream",
     "text": [
      "vsss\n",
      "vsss 101 bhopal\n"
     ]
    }
   ],
   "source": [
    "class Student:\n",
    "    school='vsss'\n",
    "    def __init__(self,name):\n",
    "        self.n=name\n",
    "        Student.school_code=101 #declare inside sonstructor\n",
    "        print(Student.school)\n",
    "    def addnew(self):\n",
    "        Student.school_city='bhopal'\n",
    "        print(Student.school,Student.school_code,Student.school_city)\n",
    "    def display(self):\n",
    "        student.grade='12th'\n",
    "Student.gread='12th'\n",
    "obj=Student('rishu')\n",
    "obj.addnew()\n"
   ]
  },
  {
   "cell_type": "code",
   "execution_count": 52,
   "id": "f0c03b32-deab-4e5b-9d1f-fd1fe27359ea",
   "metadata": {},
   "outputs": [
    {
     "ename": "IndentationError",
     "evalue": "expected an indented block after function definition on line 7 (3549633434.py, line 8)",
     "output_type": "error",
     "traceback": [
      "\u001b[1;36m  Cell \u001b[1;32mIn[52], line 8\u001b[1;36m\u001b[0m\n\u001b[1;33m    print(gread)\u001b[0m\n\u001b[1;37m    ^\u001b[0m\n\u001b[1;31mIndentationError\u001b[0m\u001b[1;31m:\u001b[0m expected an indented block after function definition on line 7\n"
     ]
    }
   ],
   "source": [
    "#oop's (LOCAL VAR)\n",
    "class Student:\n",
    "    def __init__(self,name):\n",
    "        gread='10th'\n",
    "        self.name=name\n",
    "        print(gread)\n",
    "def new(self):\n",
    "print(gread)\n",
    "obj=Student('kaluram')\n",
    "obj.new()\n"
   ]
  },
  {
   "cell_type": "code",
   "execution_count": null,
   "id": "9d999f35-c904-4e9e-93a7-cf6d01b6bec7",
   "metadata": {},
   "outputs": [],
   "source": []
  }
 ],
 "metadata": {
  "kernelspec": {
   "display_name": "Python [conda env:base] *",
   "language": "python",
   "name": "conda-base-py"
  },
  "language_info": {
   "codemirror_mode": {
    "name": "ipython",
    "version": 3
   },
   "file_extension": ".py",
   "mimetype": "text/x-python",
   "name": "python",
   "nbconvert_exporter": "python",
   "pygments_lexer": "ipython3",
   "version": "3.12.7"
  }
 },
 "nbformat": 4,
 "nbformat_minor": 5
}
