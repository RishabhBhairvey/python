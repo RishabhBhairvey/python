{
 "cells": [
  {
   "cell_type": "code",
   "execution_count": 3,
   "id": "67fdb3cb-d1d7-4c27-af6c-2646265d5426",
   "metadata": {},
   "outputs": [
    {
     "name": "stdout",
     "output_type": "stream",
     "text": [
      "20\n"
     ]
    }
   ],
   "source": [
    "x=10\n",
    "y=10\n",
    "z=x+y\n",
    "print(z)"
   ]
  },
  {
   "cell_type": "code",
   "execution_count": 9,
   "id": "ac6813d9-5610-48ce-8448-950ec008ed81",
   "metadata": {},
   "outputs": [
    {
     "name": "stdout",
     "output_type": "stream",
     "text": [
      "5.1\n"
     ]
    }
   ],
   "source": [
    "x=10.2\n",
    "y=2\n",
    "z1=x/y\n",
    "print(z1)\n"
   ]
  },
  {
   "cell_type": "code",
   "execution_count": 15,
   "id": "df409d21",
   "metadata": {},
   "outputs": [
    {
     "name": "stdout",
     "output_type": "stream",
     "text": [
      "<class 'complex'>\n"
     ]
    }
   ],
   "source": [
    "x=10\n",
    "y=20+2j\n",
    "z=x/y\n",
    "print(type(z))"
   ]
  },
  {
   "cell_type": "code",
   "execution_count": 19,
   "id": "5c7f9fad-e4d5-42c5-89d1-6b7630cfde92",
   "metadata": {},
   "outputs": [
    {
     "name": "stdout",
     "output_type": "stream",
     "text": [
      "8\n"
     ]
    }
   ],
   "source": [
    "x=50\n",
    "y=6\n",
    "z=x//y\n",
    "print(z)"
   ]
  },
  {
   "cell_type": "code",
   "execution_count": 23,
   "id": "26403763-2eac-4d25-a53a-a4fa8cd2fc33",
   "metadata": {},
   "outputs": [
    {
     "name": "stdout",
     "output_type": "stream",
     "text": [
      "rishabh kumar bhairvey\n"
     ]
    }
   ],
   "source": [
    "#string (+)cases ;\n",
    "s1='rishabh'\n",
    "s2='kumar'\n",
    "s3='bhairvey'\n",
    "s=(s1+' '+s2+' '+s3)\n",
    "print(s)"
   ]
  },
  {
   "cell_type": "code",
   "execution_count": 27,
   "id": "8b716003-ebda-4b3c-8415-f80a200fb2c1",
   "metadata": {},
   "outputs": [
    {
     "name": "stdout",
     "output_type": "stream",
     "text": [
      "rishurishu\n"
     ]
    }
   ],
   "source": [
    "#string multiply(*) case---- it is compelsury to take 1 int value with string to multyply \n",
    "s1='rishu'\n",
    "s2=2\n",
    "print(s1*s2)"
   ]
  },
  {
   "cell_type": "code",
   "execution_count": 31,
   "id": "7b544cf6-db47-47e1-a094-ee418ef36e14",
   "metadata": {},
   "outputs": [
    {
     "name": "stdout",
     "output_type": "stream",
     "text": [
      "False\n"
     ]
    }
   ],
   "source": [
    "#use of in case / to check the no. is present in string oor not\n",
    "s='rishu'\n",
    "print('a' in s)"
   ]
  },
  {
   "cell_type": "code",
   "execution_count": 33,
   "id": "272dda59-ac30-4475-bb1f-c78b364c06f4",
   "metadata": {},
   "outputs": [
    {
     "name": "stdout",
     "output_type": "stream",
     "text": [
      "True\n"
     ]
    }
   ],
   "source": [
    "s='rishabh'\n",
    "print('a' in s)"
   ]
  },
  {
   "cell_type": "code",
   "execution_count": 35,
   "id": "a8a4eee1-c39c-4ab0-b16a-1abbb6f7a1f5",
   "metadata": {},
   "outputs": [
    {
     "name": "stdout",
     "output_type": "stream",
     "text": [
      "2109648457808\n",
      "2109648482864\n"
     ]
    }
   ],
   "source": [
    "s1='rishu'\n",
    "s2='bhairvey'\n",
    "print(id(s1))\n",
    "print(id(s2))"
   ]
  },
  {
   "cell_type": "code",
   "execution_count": null,
   "id": "464eb45f-ca48-43f8-87ad-df78a254a491",
   "metadata": {},
   "outputs": [],
   "source": []
  }
 ],
 "metadata": {
  "kernelspec": {
   "display_name": "Python [conda env:base] *",
   "language": "python",
   "name": "conda-base-py"
  },
  "language_info": {
   "codemirror_mode": {
    "name": "ipython",
    "version": 3
   },
   "file_extension": ".py",
   "mimetype": "text/x-python",
   "name": "python",
   "nbconvert_exporter": "python",
   "pygments_lexer": "ipython3",
   "version": "3.12.7"
  }
 },
 "nbformat": 4,
 "nbformat_minor": 5
}
