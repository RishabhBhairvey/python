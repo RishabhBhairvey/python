{
 "cells": [
  {
   "cell_type": "code",
   "execution_count": null,
   "id": "258fe2b7-7094-4269-ac4f-f4ba1f12da72",
   "metadata": {},
   "outputs": [],
   "source": [
    "#leap year if else\n",
    "x=int(input(\"enter a year\"))\n",
    "if(x%4==0 and x%100!=0 or x%400==0):\n",
    "    print(\"given year is leap year\")\n",
    "else:\n",
    "    print(\"given year is not a leap year\")"
   ]
  },
  {
   "cell_type": "code",
   "execution_count": 1,
   "id": "8598d0ae-5466-435b-ab41-084f9eb06a75",
   "metadata": {},
   "outputs": [
    {
     "name": "stdin",
     "output_type": "stream",
     "text": [
      "total marks conduct in P 60\n",
      "total marks conduct in c 70\n",
      "total marks conduct in m 80\n"
     ]
    },
    {
     "name": "stdout",
     "output_type": "stream",
     "text": [
      "first division\n"
     ]
    }
   ],
   "source": [
    "#marksheet \n",
    "#subject p,c,m\n",
    "p,c,m=int(input(\"total marks conduct in P\")),int(input(\"total marks conduct in c\")),int(input(\"total marks conduct in m\"))\n",
    "if(p>=0 and p<=100 and c>=0 and c<=100 and m>=0 and m<=100):\n",
    "    avg=p+c+m/3\n",
    "    if avg>=60:\n",
    "        print(\"first division\")\n",
    "    elif avg >=45 and avg<=59:\n",
    "        print(\"second division\")\n",
    "    elif avg >=35 and avg<=44:\n",
    "        print(\"third division\")\n",
    "    else:\n",
    "        print(\"fail\")\n",
    "        \n",
    "        \n",
    "    \n",
    "    "
   ]
  },
  {
   "cell_type": "code",
   "execution_count": null,
   "id": "647f0c89-1ed9-4afe-8ed1-8b81acdcf4ae",
   "metadata": {},
   "outputs": [],
   "source": []
  }
 ],
 "metadata": {
  "kernelspec": {
   "display_name": "Python [conda env:base] *",
   "language": "python",
   "name": "conda-base-py"
  },
  "language_info": {
   "codemirror_mode": {
    "name": "ipython",
    "version": 3
   },
   "file_extension": ".py",
   "mimetype": "text/x-python",
   "name": "python",
   "nbconvert_exporter": "python",
   "pygments_lexer": "ipython3",
   "version": "3.12.7"
  }
 },
 "nbformat": 4,
 "nbformat_minor": 5
}
