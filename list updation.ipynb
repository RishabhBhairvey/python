{
 "cells": [
  {
   "cell_type": "code",
   "execution_count": 2,
   "id": "f1061022-1da3-420f-9407-3bc2f2d7f1ac",
   "metadata": {},
   "outputs": [
    {
     "name": "stdout",
     "output_type": "stream",
     "text": [
      "[2, 3, 4, 5, 29, 30]\n"
     ]
    }
   ],
   "source": [
    "#to creat a list and add a value( in a list)\n",
    "\n",
    "l=[2,3,4,5,29]\n",
    "l.append(30) #append is use to add a value in list as a last value\n",
    "print(l)"
   ]
  },
  {
   "cell_type": "code",
   "execution_count": 6,
   "id": "d9c28b21-212a-460f-969b-49e2e68dab62",
   "metadata": {},
   "outputs": [
    {
     "name": "stdout",
     "output_type": "stream",
     "text": [
      "[2, 3, 4, 5, 19, 15, 14]\n"
     ]
    }
   ],
   "source": [
    "#to creat a list and add multiple value( in a list)\n",
    "p=[19,15,14]\n",
    "l=[2,3,4,5]\n",
    "l.extend(p)  #extend is use to add multiple value in list as a last value\n",
    "print(l)"
   ]
  },
  {
   "cell_type": "code",
   "execution_count": 12,
   "id": "eb9b8bc6-4803-4d33-86c2-d1ddc7444cf7",
   "metadata": {},
   "outputs": [
    {
     "name": "stdout",
     "output_type": "stream",
     "text": [
      "['R', 1, 2, 3, 4, 6]\n"
     ]
    }
   ],
   "source": [
    "#to creat a list and add some value in between the list itom ( in a list)  // by inmdexing\n",
    "l=[1,2,3,4,6]\n",
    "l.insert(0,'R') # insert is use to target a value to and fix the location where we want to add a new value\n",
    "print(l)"
   ]
  },
  {
   "cell_type": "code",
   "execution_count": null,
   "id": "8095d867-a9f8-49ec-924d-d3e592e30241",
   "metadata": {},
   "outputs": [],
   "source": [
    "\n"
   ]
  }
 ],
 "metadata": {
  "kernelspec": {
   "display_name": "Python [conda env:base] *",
   "language": "python",
   "name": "conda-base-py"
  },
  "language_info": {
   "codemirror_mode": {
    "name": "ipython",
    "version": 3
   },
   "file_extension": ".py",
   "mimetype": "text/x-python",
   "name": "python",
   "nbconvert_exporter": "python",
   "pygments_lexer": "ipython3",
   "version": "3.12.7"
  }
 },
 "nbformat": 4,
 "nbformat_minor": 5
}
